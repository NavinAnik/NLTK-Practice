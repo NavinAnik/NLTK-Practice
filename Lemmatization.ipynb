{
 "cells": [
  {
   "cell_type": "code",
   "execution_count": 1,
   "id": "b63f2a79",
   "metadata": {},
   "outputs": [],
   "source": [
    "from nltk.corpus import wordnet as wn"
   ]
  },
  {
   "cell_type": "code",
   "execution_count": 2,
   "id": "7201eab5",
   "metadata": {},
   "outputs": [
    {
     "data": {
      "text/plain": [
       "[Synset('spoke.n.01'),\n",
       " Synset('rundle.n.01'),\n",
       " Synset('talk.v.02'),\n",
       " Synset('talk.v.01'),\n",
       " Synset('speak.v.03'),\n",
       " Synset('address.v.02'),\n",
       " Synset('speak.v.05')]"
      ]
     },
     "execution_count": 2,
     "metadata": {},
     "output_type": "execute_result"
    }
   ],
   "source": [
    "wn.synsets('spoke')"
   ]
  },
  {
   "cell_type": "code",
   "execution_count": 3,
   "id": "48b20624",
   "metadata": {},
   "outputs": [
    {
     "data": {
      "text/plain": [
       "'exchange thoughts; talk with'"
      ]
     },
     "execution_count": 3,
     "metadata": {},
     "output_type": "execute_result"
    }
   ],
   "source": [
    "wn.synset('talk.v.01').definition()"
   ]
  },
  {
   "cell_type": "code",
   "execution_count": 5,
   "id": "6dcbf195",
   "metadata": {},
   "outputs": [
    {
     "data": {
      "text/plain": [
       "['We often talk business', 'Actions talk louder than words']"
      ]
     },
     "execution_count": 5,
     "metadata": {},
     "output_type": "execute_result"
    }
   ],
   "source": [
    "wn.synset('talk.v.01').examples()"
   ]
  },
  {
   "cell_type": "code",
   "execution_count": 7,
   "id": "b439fb40",
   "metadata": {},
   "outputs": [
    {
     "name": "stdout",
     "output_type": "stream",
     "text": [
      "Synset('spoke.n.01') : ['spoke', 'wheel_spoke', 'radius']\n",
      "Synset('rundle.n.01') : ['rundle', 'spoke', 'rung']\n",
      "Synset('talk.v.02') : ['talk', 'speak', 'utter', 'mouth', 'verbalize', 'verbalise']\n",
      "Synset('talk.v.01') : ['talk', 'speak']\n",
      "Synset('speak.v.03') : ['speak', 'talk']\n",
      "Synset('address.v.02') : ['address', 'speak']\n",
      "Synset('speak.v.05') : ['speak']\n"
     ]
    }
   ],
   "source": [
    "for syn in wn.synsets('spoke'):\n",
    "    print(syn,':',syn.lemma_names())"
   ]
  },
  {
   "cell_type": "code",
   "execution_count": 8,
   "id": "1eea98b5",
   "metadata": {},
   "outputs": [
    {
     "data": {
      "text/plain": [
       "[Synset('talk.v.02'),\n",
       " Synset('talk.v.01'),\n",
       " Synset('speak.v.03'),\n",
       " Synset('address.v.02'),\n",
       " Synset('speak.v.05'),\n",
       " Synset('spoken.a.01')]"
      ]
     },
     "execution_count": 8,
     "metadata": {},
     "output_type": "execute_result"
    }
   ],
   "source": [
    "wn.synsets('spoken')"
   ]
  },
  {
   "cell_type": "code",
   "execution_count": 9,
   "id": "69fb098b",
   "metadata": {},
   "outputs": [
    {
     "name": "stdout",
     "output_type": "stream",
     "text": [
      "Synset('talk.v.02') : ['talk', 'speak', 'utter', 'mouth', 'verbalize', 'verbalise']\n",
      "Synset('talk.v.01') : ['talk', 'speak']\n",
      "Synset('speak.v.03') : ['speak', 'talk']\n",
      "Synset('address.v.02') : ['address', 'speak']\n",
      "Synset('speak.v.05') : ['speak']\n",
      "Synset('spoken.a.01') : ['spoken']\n"
     ]
    }
   ],
   "source": [
    "for syn in wn.synsets('spoken'):\n",
    "    print(syn,':',syn.lemma_names())"
   ]
  },
  {
   "cell_type": "code",
   "execution_count": 10,
   "id": "6a5c05ee",
   "metadata": {},
   "outputs": [],
   "source": [
    "from nltk.stem import WordNetLemmatizer"
   ]
  },
  {
   "cell_type": "code",
   "execution_count": 11,
   "id": "6ec5eb16",
   "metadata": {},
   "outputs": [],
   "source": [
    "wnl = WordNetLemmatizer()"
   ]
  },
  {
   "cell_type": "code",
   "execution_count": 12,
   "id": "6dd3a70e",
   "metadata": {},
   "outputs": [
    {
     "data": {
      "text/plain": [
       "'spoken'"
      ]
     },
     "execution_count": 12,
     "metadata": {},
     "output_type": "execute_result"
    }
   ],
   "source": [
    "wnl.lemmatize('spoken')"
   ]
  },
  {
   "cell_type": "code",
   "execution_count": 14,
   "id": "968ce43b",
   "metadata": {},
   "outputs": [
    {
     "data": {
      "text/plain": [
       "'speak'"
      ]
     },
     "execution_count": 14,
     "metadata": {},
     "output_type": "execute_result"
    }
   ],
   "source": [
    "wnl.lemmatize('spoken','v')"
   ]
  },
  {
   "cell_type": "code",
   "execution_count": 17,
   "id": "a11cf423",
   "metadata": {},
   "outputs": [
    {
     "data": {
      "text/plain": [
       "'bad'"
      ]
     },
     "execution_count": 17,
     "metadata": {},
     "output_type": "execute_result"
    }
   ],
   "source": [
    "wnl.lemmatize('worst','a')"
   ]
  },
  {
   "cell_type": "code",
   "execution_count": null,
   "id": "af6b9421",
   "metadata": {},
   "outputs": [],
   "source": []
  }
 ],
 "metadata": {
  "kernelspec": {
   "display_name": "Python 3 (ipykernel)",
   "language": "python",
   "name": "python3"
  },
  "language_info": {
   "codemirror_mode": {
    "name": "ipython",
    "version": 3
   },
   "file_extension": ".py",
   "mimetype": "text/x-python",
   "name": "python",
   "nbconvert_exporter": "python",
   "pygments_lexer": "ipython3",
   "version": "3.9.15"
  }
 },
 "nbformat": 4,
 "nbformat_minor": 5
}
